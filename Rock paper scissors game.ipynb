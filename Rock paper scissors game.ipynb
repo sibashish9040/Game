{
 "cells": [
  {
   "cell_type": "code",
   "execution_count": 16,
   "id": "b2503de8",
   "metadata": {},
   "outputs": [
    {
     "name": "stdout",
     "output_type": "stream",
     "text": [
      "rock,paper, or scissors?: paper\n",
      "computer:  rock\n",
      "player:  paper\n",
      "You win :)\n"
     ]
    }
   ],
   "source": [
    "import random\n",
    "\n",
    "choices = [\"rock\",\"paper\",\"scissors\"]\n",
    "\n",
    "computer = random.choice(choices)\n",
    "\n",
    "player = None\n",
    "\n",
    "while player not in choices:\n",
    "    player = input(\"rock,paper, or scissors?: \").lower()\n",
    "\n",
    "if player == computer:\n",
    "    print(\"computer: \",computer)\n",
    "    print(\"player: \",player)\n",
    "    print(\"Tie!!\")\n",
    "    \n",
    "elif player ==\"rock\":\n",
    "    if computer == \"paper\":\n",
    "        print(\"computer: \",computer)\n",
    "        print(\"player: \",player)\n",
    "        print(\"You lose :( \")\n",
    "    if computer == \"scissors\":\n",
    "        print(\"computer: \",computer)\n",
    "        print(\"player: \",player)\n",
    "        print(\"You win :) XD \")\n",
    "\n",
    "elif player ==\"paper\":\n",
    "    if computer == \"scissors\":\n",
    "        print(\"computer: \",computer)\n",
    "        print(\"player: \",player)\n",
    "        print(\"You lose :( \")\n",
    "    if computer == \"rock\":\n",
    "        print(\"computer: \",computer)\n",
    "        print(\"player: \",player)\n",
    "        print(\"You win :)\")\n",
    "elif player ==\"scissors\":\n",
    "    if computer == \"paper\":\n",
    "        print(\"computer: \",computer)\n",
    "        print(\"player: \",player)\n",
    "        print(\"You lose :( \")\n",
    "    if computer == \"rock\":\n",
    "        print(\"computer: \",computer)\n",
    "        print(\"player: \",player)\n",
    "        print(\"You win :) \")\n",
    "        \n",
    "    \n",
    "    \n",
    "\n"
   ]
  }
 ],
 "metadata": {
  "kernelspec": {
   "display_name": "Python 3 (ipykernel)",
   "language": "python",
   "name": "python3"
  },
  "language_info": {
   "codemirror_mode": {
    "name": "ipython",
    "version": 3
   },
   "file_extension": ".py",
   "mimetype": "text/x-python",
   "name": "python",
   "nbconvert_exporter": "python",
   "pygments_lexer": "ipython3",
   "version": "3.11.4"
  }
 },
 "nbformat": 4,
 "nbformat_minor": 5
}
