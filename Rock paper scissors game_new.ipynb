{
 "cells": [
  {
   "cell_type": "markdown",
   "id": "ca9c461e",
   "metadata": {},
   "source": [
    "# Let's play rock, paper and scissors"
   ]
  },
  {
   "cell_type": "code",
   "execution_count": 5,
   "id": "bea5d91e",
   "metadata": {},
   "outputs": [
    {
     "name": "stdout",
     "output_type": "stream",
     "text": [
      "rock,paper, or scissors?: paper\n",
      "computer:  rock\n",
      " \n",
      "    _______\n",
      "---'   ____)\n",
      "      (_____)\n",
      "      (_____)\n",
      "      (____)\n",
      "---.__(___) \n",
      "player:  paper\n",
      "\n",
      "    _______\n",
      "---'   ____)____\n",
      "          ______)\n",
      "          _______)\n",
      "         _______)\n",
      "---.__________) \n",
      "You win :)\n"
     ]
    }
   ],
   "source": [
    "import random\n",
    "rock = ''' \n",
    "    _______\n",
    "---'   ____)\n",
    "      (_____)\n",
    "      (_____)\n",
    "      (____)\n",
    "---.__(___) '''\n",
    "\n",
    "paper = '''\n",
    "    _______\n",
    "---'   ____)____\n",
    "          ______)\n",
    "          _______)\n",
    "         _______)\n",
    "---.__________) '''\n",
    "scissors = ''' \n",
    "    _______\n",
    "---'   ____)____\n",
    "          ______)\n",
    "       __________)\n",
    "      (____)\n",
    "---.__(___) '''\n",
    "\n",
    "choices = [\"rock\",\"paper\",\"scissors\"]\n",
    "ascii_art = {\"rock\": rock, \"paper\": paper, \"scissors\": scissors}\n",
    "\n",
    "computer = random.choice(choices)\n",
    "player = None\n",
    "\n",
    "while player not in choices:\n",
    "    player = input(\"rock,paper, or scissors?: \").lower()\n",
    "\n",
    "if player == computer:\n",
    "    print(\"computer: \",computer)\n",
    "    print(ascii_art[computer])\n",
    "    print(\"player: \",player)\n",
    "    print(ascii_art[player])\n",
    "    print(\"Tie!!\")\n",
    "    \n",
    "elif player == \"rock\":\n",
    "    if computer == \"paper\":\n",
    "        print(\"computer: \",computer)\n",
    "        print(ascii_art[computer])\n",
    "        print(\"player: \",player)\n",
    "        print(ascii_art[player])\n",
    "        print(\"You lose :( \")\n",
    "    if computer == \"scissors\":\n",
    "        print(\"computer: \",computer)\n",
    "        print(ascii_art[computer])\n",
    "        print(\"player: \",player)\n",
    "        print(ascii_art[player])\n",
    "        print(\"You win :) XD \")\n",
    "\n",
    "elif player == \"paper\":\n",
    "    if computer == \"scissors\":\n",
    "        print(\"computer: \",computer)\n",
    "        print(ascii_art[computer])\n",
    "        print(\"player: \",player)\n",
    "        print(ascii_art[player])\n",
    "        print(\"You lose :( \")\n",
    "    if computer == \"rock\":\n",
    "        print(\"computer: \",computer)\n",
    "        print(ascii_art[computer])\n",
    "        print(\"player: \",player)\n",
    "        print(ascii_art[player])\n",
    "        print(\"You win :)\")\n",
    "elif player == \"scissors\":\n",
    "    if computer == \"paper\":\n",
    "        print(\"computer: \",computer)\n",
    "        print(ascii_art[computer])\n",
    "        print(\"player: \",player)\n",
    "        print(ascii_art[player])\n",
    "        print(\"You lose :( \")\n",
    "    if computer == \"rock\":\n",
    "        print(\"computer: \",computer)\n",
    "        print(ascii_art[computer])\n",
    "        print(\"player: \",player)\n",
    "        print(ascii_art[player])\n",
    "        print(\"You win :) \")\n",
    "        \n",
    "    \n",
    "    \n",
    "\n"
   ]
  },
  {
   "cell_type": "markdown",
   "id": "6aa453fc",
   "metadata": {},
   "source": [
    "# Thank you, hope you enjoyed"
   ]
  }
 ],
 "metadata": {
  "kernelspec": {
   "display_name": "Python 3 (ipykernel)",
   "language": "python",
   "name": "python3"
  },
  "language_info": {
   "codemirror_mode": {
    "name": "ipython",
    "version": 3
   },
   "file_extension": ".py",
   "mimetype": "text/x-python",
   "name": "python",
   "nbconvert_exporter": "python",
   "pygments_lexer": "ipython3",
   "version": "3.11.4"
  }
 },
 "nbformat": 4,
 "nbformat_minor": 5
}
